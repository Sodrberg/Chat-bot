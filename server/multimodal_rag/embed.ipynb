{
 "cells": [
  {
   "cell_type": "code",
   "execution_count": 1,
   "metadata": {},
   "outputs": [],
   "source": [
    "from langchain_openai import OpenAI\n",
    "from langchain_openai import OpenAIEmbeddings\n",
    "from langchain_community.vectorstores import FAISS\n",
    "from langchain_core.vectorstores import VectorStoreRetriever\n",
    "from langchain.chains import RetrievalQA\n",
    "import ast\n",
    "import os\n",
    "from dataclasses import dataclass\n",
    "from typing import List\n",
    "import inspect\n",
    "from dotenv import load_dotenv\n",
    "\n",
    "import os\n",
    "import json\n",
    "\n",
    "load_dotenv()\n",
    "openai_api_key = os.environ.get('OPENAI_API_KEY')\n",
    "\n",
    "\n",
    "@dataclass\n",
    "class Document:\n",
    "    page_content: str\n",
    "    metadata: dict\n",
    "\n",
    "\n",
    "def chunk_text(text):\n",
    "    pages = text.split('\\n\\n')\n",
    "    chunks = [page.strip() for page in pages if page.strip()]\n",
    "    return chunks\n",
    "\n",
    "def process_json_file(file_path):\n",
    "    embeddings = OpenAIEmbeddings(model=\"text-embedding-3-large\")\n",
    "    \n",
    "    with open(file_path, 'r') as f:\n",
    "        data = json.load(f)\n",
    "    \n",
    "    docs = []\n",
    "    for item in data:\n",
    "        if 'content' in item and isinstance(item['content'], list):\n",
    "            for content in item['content']:\n",
    "                if content['type'] == 'text':\n",
    "                    text = content['text']\n",
    "                    chunks = chunk_text(text)\n",
    "                    for i, chunk in enumerate(chunks):\n",
    "                        metadata = {\n",
    "                            'id': item['id'],\n",
    "                            'chunk_index': i,\n",
    "                            'total_chunks': len(chunks)\n",
    "                        }\n",
    "                        doc = Document(page_content=chunk, metadata=metadata)\n",
    "                        docs.append(doc)\n",
    "    \n",
    "    library = FAISS.from_documents(docs, embeddings)\n",
    "    return library\n",
    "\n",
    "# Example usage\n",
    "file_path = 'output_directory/all_responses.json'\n",
    "library = process_json_file(file_path)\n",
    "\n",
    "# Now you can use the vector_store for similarity search or other operations"
   ]
  },
  {
   "cell_type": "code",
   "execution_count": 5,
   "metadata": {},
   "outputs": [],
   "source": [
    "query = \"How do i service the engine ?\""
   ]
  },
  {
   "cell_type": "code",
   "execution_count": 6,
   "metadata": {},
   "outputs": [
    {
     "name": "stdout",
     "output_type": "stream",
     "text": [
      "---------------------------------------------\n",
      "The most relevant page is:\n",
      "Page 148: This page details service work on the engine, focusing on cleaning the oil screens. It includes warning messages about the danger of scalding and environmental hazards. The page also shows a diagram of the engine with numbered parts and instructions for removing screws and O-rings.\n",
      "Metadata: {'id': 'msg_01SGvyPDZRFjt2h2Fm3vrx4X', 'chunk_index': 3, 'total_chunks': 10}\n",
      "---------------------------------------------\n",
      "The 2th most relevant page is:\n",
      "Page 17: This page covers service work on the engine, specifically oil filter replacement. It includes a warning about environmental hazards from oil and other fluids. The page shows illustrations and step-by-step instructions for removing the oil filter cover and filter, with tool recommendations.\n",
      "Metadata: {'id': 'msg_013d9fxbopeXaPsiynKHvZXV', 'chunk_index': 10, 'total_chunks': 11}\n",
      "---------------------------------------------\n",
      "The 3th most relevant page is:\n",
      "Page 152: This page focuses on service work on the engine. It contains a prominent danger warning about exhaust gases being toxic and potentially fatal if inhaled. The page provides safety instructions for running the engine, emphasizing the need for proper ventilation. It also includes brief finishing work instructions related to checking the engine oil level.\n",
      "Metadata: {'id': 'msg_01Syf4WFQd3KcYeZN9ubm5Sm', 'chunk_index': 4, 'total_chunks': 10}\n",
      "---------------------------------------------\n",
      "The 4th most relevant page is:\n",
      "Page 17: Instructions for changing the engine oil and filter. It includes step-by-step directions with reference page numbers, an image of an oil filter and related tools, and warning symbols for potential hazards like hot engine parts and environmental concerns.\n",
      "Metadata: {'id': 'msg_018VXSZuR6EVaAPt3gttV8DK', 'chunk_index': 3, 'total_chunks': 11}\n"
     ]
    }
   ],
   "source": [
    "query_answers = library.similarity_search(query)\n",
    "\n",
    "for i, answer in enumerate(query_answers):\n",
    "    page_content = answer.page_content\n",
    "    metadata = answer.metadata \n",
    "\n",
    "    def print_code_response(query_result):\n",
    "        content = query_result.page_content\n",
    "        metadata = query_result.metadata\n",
    "        print(content)\n",
    "        print(f\"Metadata: {metadata}\")\n",
    "\n",
    "    query_answer = Document(\n",
    "        page_content=page_content,\n",
    "        metadata=metadata\n",
    "    )\n",
    "    print('---------------------------------------------')\n",
    "    if i == 0:\n",
    "        print('The most relevant page is:')\n",
    "    else:\n",
    "        print(f'The {i+1}th most relevant page is:')\n",
    "    print_code_response(query_answer)\n",
    "\n",
    "query_answer = query_answer"
   ]
  },
  {
   "cell_type": "code",
   "execution_count": 8,
   "metadata": {},
   "outputs": [
    {
     "name": "stdout",
     "output_type": "stream",
     "text": [
      "[TextBlock(text='17', type='text')]\n"
     ]
    }
   ],
   "source": [
    "import os\n",
    "import base64\n",
    "import anthropic\n",
    "import json\n",
    "import time\n",
    "from dotenv import load_dotenv\n",
    "\n",
    "load_dotenv()\n",
    "\n",
    "api_key = os.getenv('ANTHROPIC_API_KEY')\n",
    "\n",
    "client = anthropic.Anthropic()\n",
    "\n",
    "\n",
    "message = client.messages.create(\n",
    "    model=\"claude-3-5-sonnet-20240620\",\n",
    "    max_tokens=1000,\n",
    "    temperature=0,\n",
    "    system=\"You are a professional manual writer.\",\n",
    "    messages=[\n",
    "        {\n",
    "            \"role\": \"user\",\n",
    "            \"content\": [\n",
    "                {\n",
    "                    \"type\": \"text\",\n",
    "                    \"text\": f\"Choose the most relevant answer based on the users query and provide only the page number. Here is the query: {query} and here is the answer: {query_answer}?\"\n",
    "                }\n",
    "            ]\n",
    "        }\n",
    "    ]\n",
    ")\n",
    "print(message.content)"
   ]
  }
 ],
 "metadata": {
  "kernelspec": {
   "display_name": "env",
   "language": "python",
   "name": "python3"
  },
  "language_info": {
   "codemirror_mode": {
    "name": "ipython",
    "version": 3
   },
   "file_extension": ".py",
   "mimetype": "text/x-python",
   "name": "python",
   "nbconvert_exporter": "python",
   "pygments_lexer": "ipython3",
   "version": "3.12.4"
  }
 },
 "nbformat": 4,
 "nbformat_minor": 2
}
